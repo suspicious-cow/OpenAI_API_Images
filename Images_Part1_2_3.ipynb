{
 "cells": [
  {
   "cell_type": "markdown",
   "metadata": {},
   "source": [
    "# Working with Images, Part 1\n"
   ]
  },
  {
   "cell_type": "markdown",
   "metadata": {},
   "source": [
    "# Univeral Code Used for the Entire Notebook\n",
    "\n",
    "Let's set up our libraries and client"
   ]
  },
  {
   "cell_type": "code",
   "execution_count": null,
   "metadata": {},
   "outputs": [],
   "source": [
    "# Import the OpenAI class from the openai module\n",
    "import requests\n",
    "import base64\n",
    "from openai import OpenAI\n",
    "from IPython.display import Image, display, HTML"
   ]
  },
  {
   "cell_type": "code",
   "execution_count": null,
   "metadata": {},
   "outputs": [],
   "source": [
    "# Create a client we can use\n",
    "client = OpenAI()"
   ]
  },
  {
   "cell_type": "markdown",
   "metadata": {},
   "source": [
    "## Generations\n",
    "\n",
    "The image generations endpoint allows you to create an original image given a text prompt. When using DALL·E 3, images can have a size of 1024x1024, 1024x1792 or 1792x1024 pixels.\n",
    "\n",
    "By default, images are generated at standard quality, but when using DALL·E 3 you can set quality: \"hd\" for enhanced detail. Square, standard quality images are the fastest to generate.\n",
    "\n",
    "You can request 1 image at a time with DALL·E 3 (request more by making parallel requests) or up to 10 images at a time using DALL·E 2 with the n parameter."
   ]
  },
  {
   "cell_type": "code",
   "execution_count": null,
   "metadata": {},
   "outputs": [],
   "source": [
    "# Simple image generation\n",
    "image = client.images.generate(\n",
    "    prompt=\"a cabin on a snowy hillside at night\",\n",
    ")\n",
    "\n",
    "image_url = image.data[0].url\n",
    "\n",
    "# Display the image\n",
    "print(f\"Image URL: {image_url}\")\n",
    "display(Image(url=image_url))"
   ]
  },
  {
   "cell_type": "code",
   "execution_count": null,
   "metadata": {},
   "outputs": [],
   "source": [
    "# Full parameter generation\n",
    "image_full_parameters = client.images.generate(\n",
    "    prompt=\"a cabin on a snowy hillside at night\",\n",
    "    model=\"dall-e-3\",\n",
    "    n=1,\n",
    "    quality=\"standard\",\n",
    "    response_format=\"url\",\n",
    "    size=\"1024x1024\",\n",
    "    style=\"natural\",\n",
    "    user=\"user-id-123\"\n",
    ")\n",
    "\n",
    "image_url = image_full_parameters.data[0].url\n",
    "\n",
    "# Display the image\n",
    "print(f\"Image URL: {image_url}\")\n",
    "display(Image(url=image_url))"
   ]
  },
  {
   "cell_type": "code",
   "execution_count": null,
   "metadata": {},
   "outputs": [],
   "source": [
    "# Generate multiple images\n",
    "images = client.images.generate(\n",
    "    prompt=\"a cabin on a snowy hillside at night\",\n",
    "    model=\"dall-e-2\",\n",
    "    n=10,\n",
    "    quality=\"standard\",\n",
    "    response_format=\"url\",\n",
    "    size=\"256x256\",\n",
    "    style=\"natural\",\n",
    "    user=\"user-id-123\"\n",
    ")\n",
    "\n",
    "# Extract URLs from the responses and display them\n",
    "html = \"\"\n",
    "for image in images.data:\n",
    "    image_url = image.url  # Access the URL from the Image object\n",
    "    html += f'<img src=\"{image_url}\" style=\"display:inline; margin:10px; width:256px; height:256px;\">'\n",
    "    print(f\"{image_url}\\n\")\n",
    "\n",
    "# Display the images side by side\n",
    "display(HTML(html))\n"
   ]
  },
  {
   "cell_type": "markdown",
   "metadata": {},
   "source": [
    "## Examining the Revised Prompt\n"
   ]
  },
  {
   "cell_type": "code",
   "execution_count": null,
   "metadata": {},
   "outputs": [],
   "source": [
    "# Full parameter generation\n",
    "prompt = \"a cabin on a snowy hillside at night\"\n",
    "\n",
    "image_full_parameters = client.images.generate(\n",
    "    prompt=\"a cabin on a snowy hillside at night\",\n",
    "    model=\"dall-e-3\",\n",
    "    n=1,\n",
    "    quality=\"standard\",\n",
    "    response_format=\"url\",\n",
    "    size=\"1024x1024\",\n",
    "    style=\"natural\",\n",
    "    user=\"user-id-123\"\n",
    ")\n",
    "\n",
    "image_url = image_full_parameters.data[0].url\n",
    "\n",
    "# Show the before and after prompts\n",
    "print(\"Original Prompt:\")\n",
    "print(prompt)\n",
    "print(\"\\n\")\n",
    "print(\"Revised Prompt:\")\n",
    "print(image_full_parameters.data[0].revised_prompt)\n",
    "\n",
    "\n",
    "# Display the image\n",
    "print(f\"\\nImage URL: {image_url}\")\n",
    "display(Image(url=image_url))"
   ]
  },
  {
   "cell_type": "markdown",
   "metadata": {},
   "source": [
    "### Overriding the Revised Prompt (Doesn't Work)"
   ]
  },
  {
   "cell_type": "code",
   "execution_count": null,
   "metadata": {},
   "outputs": [],
   "source": [
    "# Full parameter generation\n",
    "prompt = \"I NEED to test how the tool works with extremely simple prompts. DO NOT add any detail, just use it AS-IS: a cabin on a snowy hillside at night\"\n",
    "\n",
    "image_full_parameters = client.images.generate(\n",
    "    prompt=\"a cabin on a snowy hillside at night\",\n",
    "    model=\"dall-e-3\",\n",
    "    n=1,\n",
    "    quality=\"standard\",\n",
    "    response_format=\"url\",\n",
    "    size=\"1024x1024\",\n",
    "    style=\"natural\",\n",
    "    user=\"user-id-123\"\n",
    ")\n",
    "\n",
    "image_url = image_full_parameters.data[0].url\n",
    "\n",
    "# Show the before and after prompts\n",
    "print(\"Original Prompt:\")\n",
    "print(prompt)\n",
    "print(\"\\n\")\n",
    "print(\"Revised Prompt:\")\n",
    "print(image_full_parameters.data[0].revised_prompt)\n",
    "\n",
    "\n",
    "# Display the image\n",
    "print(f\"\\nImage URL: {image_url}\")\n",
    "display(Image(url=image_url))"
   ]
  },
  {
   "cell_type": "markdown",
   "metadata": {},
   "source": [
    "### Download Image from URL\n"
   ]
  },
  {
   "cell_type": "code",
   "execution_count": null,
   "metadata": {},
   "outputs": [],
   "source": [
    "# Full parameter generation\n",
    "image_full_parameters = client.images.generate(\n",
    "    prompt=\"a cabin on a snowy hillside at night\",\n",
    "    model=\"dall-e-3\",\n",
    "    n=1,\n",
    "    quality=\"standard\",\n",
    "    response_format=\"url\",\n",
    "    size=\"1024x1024\",\n",
    "    style=\"natural\",\n",
    "    user=\"user-id-123\"\n",
    ")\n",
    "\n",
    "image_url = image_full_parameters.data[0].url\n",
    "\n",
    "# Display the image\n",
    "display(Image(url=image_url))\n",
    "\n",
    "# Download the image\n",
    "image_data = requests.get(image_url).content\n",
    "\n",
    "# Save the image to a file\n",
    "with open('snowy_cabin.png', 'wb') as handler:\n",
    "    handler.write(image_data)\n",
    "\n",
    "print(\"Image downloaded and saved as 'snowy_cabin.png'\")"
   ]
  },
  {
   "cell_type": "markdown",
   "metadata": {},
   "source": [
    "## Return and Download a Base64 image instead of a URL\n",
    "\n",
    "URL's expire after an hour so, you either need to download them before that time limit or, if you want the image to persist, you should create a Base64 image. \n",
    "\n"
   ]
  },
  {
   "cell_type": "code",
   "execution_count": null,
   "metadata": {},
   "outputs": [],
   "source": [
    "# Full parameter generation\n",
    "image_full_parameters = client.images.generate(\n",
    "    prompt=\"a cabin on a snowy hillside at night\",\n",
    "    model=\"dall-e-3\",\n",
    "    n=1,\n",
    "    quality=\"standard\",\n",
    "    response_format=\"b64_json\",\n",
    "    size=\"1024x1024\",\n",
    "    style=\"natural\",\n",
    "    user=\"user-id-123\"\n",
    ")\n",
    "\n",
    "# Get the Base64 image data\n",
    "b64_image = image_full_parameters.data[0].b64_json\n",
    "\n",
    "# Decode the Base64 image\n",
    "image_data = base64.b64decode(b64_image)\n",
    "\n",
    "# Display the image\n",
    "display(Image(data=image_data))\n",
    "\n",
    "# Optionally save the image to a file\n",
    "with open('b64_snowy_cabin.png', 'wb') as handler:\n",
    "    handler.write(image_data)\n",
    "\n",
    "print(\"Image displayed and saved as 'b64_snowy_cabin.png'\")"
   ]
  },
  {
   "cell_type": "markdown",
   "metadata": {},
   "source": [
    "# Working with Images, Part 2"
   ]
  },
  {
   "cell_type": "markdown",
   "metadata": {},
   "source": [
    "## Editing Images (DALL-E 2 Only)"
   ]
  },
  {
   "cell_type": "code",
   "execution_count": null,
   "metadata": {},
   "outputs": [],
   "source": [
    "# Full parameter generation\n",
    "image_full_parameters = client.images.generate(\n",
    "    prompt=\"a pool with a nice house in the background\",\n",
    "    model=\"dall-e-2\",\n",
    "    n=1,\n",
    "    quality=\"standard\",\n",
    "    response_format=\"url\",\n",
    "    size=\"1024x1024\",\n",
    "    style=\"natural\",\n",
    "    user=\"user-id-123\"\n",
    ")\n",
    "\n",
    "image_url = image_full_parameters.data[0].url\n",
    "\n",
    "# Display the image\n",
    "display(Image(url=image_url))\n",
    "\n",
    "# Download the image\n",
    "image_data = requests.get(image_url).content\n",
    "\n",
    "# Save the image to a file\n",
    "with open('pool_original.png', 'wb') as handler:\n",
    "    handler.write(image_data)\n",
    "\n",
    "print(\"Image downloaded and saved as 'pool_original.png'\")"
   ]
  },
  {
   "cell_type": "code",
   "execution_count": null,
   "metadata": {},
   "outputs": [],
   "source": [
    "from PIL import Image\n",
    "import openai\n",
    "\n",
    "# Open the original image\n",
    "original_image = Image.open(\"pool_original.png\")\n",
    "\n",
    "# Convert the image to RGBA format\n",
    "rgba_image = original_image.convert(\"RGBA\")\n",
    "\n",
    "# Save the converted image to a new file\n",
    "rgba_image.save(\"pool_rgba.png\")\n",
    "\n"
   ]
  },
  {
   "cell_type": "code",
   "execution_count": 5,
   "metadata": {},
   "outputs": [],
   "source": [
    "# Now use the converted image in your API request\n",
    "response = client.images.edit(\n",
    "    image=open(\"pool_rgba.png\", \"rb\"),\n",
    "    mask=open(\"pool_rgba_mask.png\", \"rb\"),\n",
    "    prompt=\"add a flamingo toy to the water\",\n",
    "    n=1,\n",
    "    size=\"1024x1024\"\n",
    ")\n",
    "\n",
    "# Get the URL of the generated image\n",
    "image_url = response['data'][0]['url']\n",
    "\n",
    "# Display the image\n",
    "from IPython.display import Image as IPImage, display\n",
    "display(IPImage(url=image_url))"
   ]
  },
  {
   "cell_type": "markdown",
   "metadata": {},
   "source": [
    "## Variations (DALL-E 2 Only)"
   ]
  },
  {
   "cell_type": "code",
   "execution_count": null,
   "metadata": {},
   "outputs": [],
   "source": [
    "from openai import OpenAI\n",
    "client = OpenAI()\n",
    "\n",
    "response = client.images.create_variation(\n",
    "    model=\"dall-e-2\",\n",
    "    image=open(\"pool_rgba.png\", \"rb\"),\n",
    "    n=1,\n",
    "    size=\"1024x1024\"\n",
    ")\n",
    "\n",
    "image_url = response.data[0].url\n",
    "\n",
    "# Display the image\n",
    "display(Image(url=image_url))"
   ]
  }
 ],
 "metadata": {
  "kernelspec": {
   "display_name": "NormalProgramming",
   "language": "python",
   "name": "python3"
  },
  "language_info": {
   "codemirror_mode": {
    "name": "ipython",
    "version": 3
   },
   "file_extension": ".py",
   "mimetype": "text/x-python",
   "name": "python",
   "nbconvert_exporter": "python",
   "pygments_lexer": "ipython3",
   "version": "3.11.4"
  }
 },
 "nbformat": 4,
 "nbformat_minor": 2
}
